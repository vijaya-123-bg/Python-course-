{
  "nbformat": 4,
  "nbformat_minor": 0,
  "metadata": {
    "colab": {
      "private_outputs": true,
      "provenance": [],
      "authorship_tag": "ABX9TyP16EcaVHheRQx7VNdPSyZz",
      "include_colab_link": true
    },
    "kernelspec": {
      "name": "python3",
      "display_name": "Python 3"
    },
    "language_info": {
      "name": "python"
    }
  },
  "cells": [
    {
      "cell_type": "markdown",
      "metadata": {
        "id": "view-in-github",
        "colab_type": "text"
      },
      "source": [
        "<a href=\"https://colab.research.google.com/github/vijaya-123-bg/Python-course-/blob/main/Untitled35.ipynb\" target=\"_parent\"><img src=\"https://colab.research.google.com/assets/colab-badge.svg\" alt=\"Open In Colab\"/></a>"
      ]
    },
    {
      "cell_type": "code",
      "execution_count": null,
      "metadata": {
        "id": "yGpdXYVjJ1lY"
      },
      "outputs": [],
      "source": [
        "import pandas as pd\n",
        "import numpy as np\n",
        "l=[1,2,3,4,56]\n",
        "pd.Series(l)\n"
      ]
    },
    {
      "cell_type": "code",
      "source": [
        "pd.Series(l,index=[\"i\",\"ii\",\"iii\",\"iv\",\"v\"])"
      ],
      "metadata": {
        "id": "LJO9bb6_KhVr"
      },
      "execution_count": null,
      "outputs": []
    },
    {
      "cell_type": "code",
      "source": [
        "d={\"name\":[\"santhi\",\"hello\",\"raji\"],\"percentage\":[90,65,80]}\n",
        "pd.DataFrame(d)"
      ],
      "metadata": {
        "id": "HDNosAVnK1VR"
      },
      "execution_count": null,
      "outputs": []
    }
  ]
}