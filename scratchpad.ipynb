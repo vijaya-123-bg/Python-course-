{
  "cells": [
    {
      "cell_type": "markdown",
      "metadata": {
        "id": "view-in-github",
        "colab_type": "text"
      },
      "source": [
        "<a href=\"https://colab.research.google.com/github/vijaya-123-bg/Python-course-/blob/main/scratchpad.ipynb\" target=\"_parent\"><img src=\"https://colab.research.google.com/assets/colab-badge.svg\" alt=\"Open In Colab\"/></a>"
      ]
    },
    {
      "cell_type": "code",
      "execution_count": 1,
      "metadata": {
        "colab": {
          "base_uri": "https://localhost:8080/"
        },
        "id": "lIYdn1woOS1n",
        "outputId": "c248a9a0-c321-4ba3-c95d-ed96f74c2831"
      },
      "outputs": [
        {
          "output_type": "stream",
          "name": "stdout",
          "text": [
            "('apple', 'banana', 'grapes')\n"
          ]
        }
      ],
      "source": [
        "tuple=(\"apple\",\"banana\",\"grapes\")\n",
        "print(tuple)"
      ]
    },
    {
      "cell_type": "code",
      "source": [
        "tuple=(\"apple\",\"banana\",\"grapes\",\"apple\",\"banana\")\n",
        "print(tuple)"
      ],
      "metadata": {
        "id": "pI3r7n72YgAT",
        "outputId": "bdc4782d-fda2-4cc0-f11d-dffcda887816",
        "colab": {
          "base_uri": "https://localhost:8080/"
        }
      },
      "execution_count": 2,
      "outputs": [
        {
          "output_type": "stream",
          "name": "stdout",
          "text": [
            "('apple', 'banana', 'grapes', 'apple', 'banana')\n"
          ]
        }
      ]
    },
    {
      "cell_type": "code",
      "source": [
        "tuple=(\"apple\",\"banana\",\"cherry\")\n",
        "print(len(tuple))"
      ],
      "metadata": {
        "id": "eSnSjMWVYuUG",
        "outputId": "dcbbb979-373b-4f13-dcb3-37b5c8ada074",
        "colab": {
          "base_uri": "https://localhost:8080/"
        }
      },
      "execution_count": 3,
      "outputs": [
        {
          "output_type": "stream",
          "name": "stdout",
          "text": [
            "3\n"
          ]
        }
      ]
    },
    {
      "cell_type": "markdown",
      "source": [],
      "metadata": {
        "id": "_5xQgBxBe53a"
      }
    },
    {
      "cell_type": "code",
      "source": [
        "tuple=(\"banana\",)\n",
        "print(type(tuple))\n",
        "tuple=(\"banana\")\n",
        "print(type(tuple))"
      ],
      "metadata": {
        "id": "ueEj6-hnZTaE",
        "outputId": "489e89d1-8c6d-4020-aa41-e4b96c88a2cd",
        "colab": {
          "base_uri": "https://localhost:8080/"
        }
      },
      "execution_count": 4,
      "outputs": [
        {
          "output_type": "stream",
          "name": "stdout",
          "text": [
            "<class 'tuple'>\n",
            "<class 'str'>\n"
          ]
        }
      ]
    },
    {
      "cell_type": "code",
      "source": [
        "tuple1=(\"banana\",\"cherry\")\n",
        "tuple2=(1,2)\n",
        "tuple3=(True,False)\n",
        "tuple=tuple1+tuple2+tuple3\n",
        "print(tuple)"
      ],
      "metadata": {
        "id": "OUcB4mNaaG7Y",
        "outputId": "1803d0af-1375-4b93-b7a3-f13e6afb63d9",
        "colab": {
          "base_uri": "https://localhost:8080/"
        }
      },
      "execution_count": 7,
      "outputs": [
        {
          "output_type": "stream",
          "name": "stdout",
          "text": [
            "('banana', 'cherry', 1, 2, True, False)\n"
          ]
        }
      ]
    },
    {
      "cell_type": "code",
      "source": [
        "tuple=(\"banana\",\"grapes\",\"pinaple\")\n",
        "print(tuple[-3])"
      ],
      "metadata": {
        "id": "N4pSRS1ebG0M",
        "outputId": "a53fbaed-bcc9-4de7-c2ff-a62d53558897",
        "colab": {
          "base_uri": "https://localhost:8080/"
        }
      },
      "execution_count": 10,
      "outputs": [
        {
          "output_type": "stream",
          "name": "stdout",
          "text": [
            "banana\n"
          ]
        }
      ]
    },
    {
      "cell_type": "code",
      "source": [
        "tiuple=(\"banana\",\"dragun\",\"kiwi\",\"black berry\",\"water melon\",\"black cherry\")\n",
        "print(tiuple[2:3])"
      ],
      "metadata": {
        "id": "7mHDvkuabbE4",
        "outputId": "edce9785-1091-4aff-f5b5-e6012fb0aa76",
        "colab": {
          "base_uri": "https://localhost:8080/"
        }
      },
      "execution_count": 20,
      "outputs": [
        {
          "output_type": "stream",
          "name": "stdout",
          "text": [
            "('kiwi',)\n"
          ]
        }
      ]
    },
    {
      "cell_type": "code",
      "source": [
        "a=2\n",
        "for i in range(1,11):\n",
        "print(\"a\",*,\"i\",a+i)"
      ],
      "metadata": {
        "id": "sdP_IZSheY_H",
        "outputId": "35191e4a-8893-47dc-ab06-e851de8eb7ad",
        "colab": {
          "base_uri": "https://localhost:8080/",
          "height": 106
        }
      },
      "execution_count": 22,
      "outputs": [
        {
          "output_type": "error",
          "ename": "IndentationError",
          "evalue": "expected an indented block after 'for' statement on line 2 (<ipython-input-22-73f943856927>, line 3)",
          "traceback": [
            "\u001b[0;36m  File \u001b[0;32m\"<ipython-input-22-73f943856927>\"\u001b[0;36m, line \u001b[0;32m3\u001b[0m\n\u001b[0;31m    print(\"a\",*,\"i\",a+i)\u001b[0m\n\u001b[0m    ^\u001b[0m\n\u001b[0;31mIndentationError\u001b[0m\u001b[0;31m:\u001b[0m expected an indented block after 'for' statement on line 2\n"
          ]
        }
      ]
    }
  ],
  "metadata": {
    "colab": {
      "name": "scratchpad",
      "provenance": [],
      "include_colab_link": true
    },
    "kernelspec": {
      "display_name": "Python 3",
      "name": "python3"
    }
  },
  "nbformat": 4,
  "nbformat_minor": 0
}