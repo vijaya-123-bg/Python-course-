{
  "nbformat": 4,
  "nbformat_minor": 0,
  "metadata": {
    "colab": {
      "private_outputs": true,
      "provenance": [],
      "mount_file_id": "1UYJx-w7Ejmct0vL53Otk9GgIiO-5nOR1",
      "authorship_tag": "ABX9TyMFCRqAMHRN/DgGX4T0btrv",
      "include_colab_link": true
    },
    "kernelspec": {
      "name": "python3",
      "display_name": "Python 3"
    },
    "language_info": {
      "name": "python"
    }
  },
  "cells": [
    {
      "cell_type": "markdown",
      "metadata": {
        "id": "view-in-github",
        "colab_type": "text"
      },
      "source": [
        "<a href=\"https://colab.research.google.com/github/vijaya-123-bg/Python-course-/blob/main/pandas37.ipynb\" target=\"_parent\"><img src=\"https://colab.research.google.com/assets/colab-badge.svg\" alt=\"Open In Colab\"/></a>"
      ]
    },
    {
      "cell_type": "code",
      "source": [
        "import pandas as pd\n",
        ""
      ],
      "metadata": {
        "id": "gBr4DmyuP37v"
      },
      "execution_count": null,
      "outputs": []
    },
    {
      "cell_type": "code",
      "source": [
        "# prompt: using /Studentdata.xlsx dataset generate a program and print it\n",
        "\n",
        "df = pd.read_excel('/Studentdata.xlsx')\n",
        "print(df)\n"
      ],
      "metadata": {
        "id": "2RElMjUcZxyE"
      },
      "execution_count": null,
      "outputs": []
    },
    {
      "cell_type": "code",
      "source": [
        "d = pd.read_excel(\"/Studentdata.xlsx\")\n",
        "print(df)"
      ],
      "metadata": {
        "id": "RNHvytdNPzlI"
      },
      "execution_count": null,
      "outputs": []
    }
  ]
}